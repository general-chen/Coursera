{
 "cells": [
  {
   "cell_type": "code",
   "execution_count": 1,
   "id": "bb5c69ca-f84d-4d37-a529-661c5bc88705",
   "metadata": {},
   "outputs": [],
   "source": [
    "import numpy as np\n",
    "import pandas as pd"
   ]
  },
  {
   "cell_type": "code",
   "execution_count": null,
   "id": "935e135a-6678-45ed-8815-e3045ee5f709",
   "metadata": {},
   "outputs": [],
   "source": [
    "from js import fetch\n",
    "import io"
   ]
  },
  {
   "cell_type": "code",
   "execution_count": null,
   "id": "9fc6b011-67e5-4d86-a430-3dbcf9fd93e1",
   "metadata": {},
   "outputs": [],
   "source": []
  },
  {
   "cell_type": "code",
   "execution_count": 45,
   "id": "58e92da8-9f10-435c-a814-0096896a6ac1",
   "metadata": {},
   "outputs": [],
   "source": [
    "class person():\n",
    "    def __init__(self, name, age):\n",
    "        self.name = name\n",
    "        self.age = age\n",
    "    \n",
    "    def myfunc(x):\n",
    "        print('my name is ' + x.name)\n",
    "        print(x.name + \"'s age is: \" + str(x.age))\n",
    "        \n",
    "    def blood(x):\n",
    "        print(x.name + \"'s blood type is 'O'\")\n",
    "        \n",
    "p1 = person('a', 20)\n"
   ]
  },
  {
   "cell_type": "code",
   "execution_count": 46,
   "id": "755cacec-cd94-4ae2-96e4-dd90edb776bb",
   "metadata": {},
   "outputs": [
    {
     "name": "stdout",
     "output_type": "stream",
     "text": [
      "my name is a\n",
      "a's age is: 20\n",
      "a's blood type is 'O'\n"
     ]
    }
   ],
   "source": [
    "p1.myfunc()\n",
    "p1.blood()"
   ]
  },
  {
   "cell_type": "code",
   "execution_count": null,
   "id": "c0689f54-3ba6-442b-b3fa-3d7d0493bf50",
   "metadata": {},
   "outputs": [],
   "source": []
  },
  {
   "cell_type": "code",
   "execution_count": null,
   "id": "d0e22fcc-e917-4b99-a15f-e59fa8d36557",
   "metadata": {},
   "outputs": [],
   "source": []
  },
  {
   "cell_type": "code",
   "execution_count": null,
   "id": "10aa3788-a656-4428-8f95-144efcf820e7",
   "metadata": {},
   "outputs": [],
   "source": []
  },
  {
   "cell_type": "code",
   "execution_count": null,
   "id": "74ccae3f-fcae-4dac-b71d-da14c4b151d7",
   "metadata": {},
   "outputs": [],
   "source": []
  },
  {
   "cell_type": "code",
   "execution_count": null,
   "id": "faf9f542-5cea-4377-a3ae-92499f5d0ec6",
   "metadata": {},
   "outputs": [],
   "source": []
  },
  {
   "cell_type": "code",
   "execution_count": null,
   "id": "f7671d05-ecdd-4e22-8a80-9bc91c1aa808",
   "metadata": {},
   "outputs": [],
   "source": []
  },
  {
   "cell_type": "code",
   "execution_count": null,
   "id": "4e6e606b-4245-422e-b12b-7942c4293368",
   "metadata": {},
   "outputs": [],
   "source": []
  },
  {
   "cell_type": "code",
   "execution_count": null,
   "id": "0d5249f2-984f-4e7e-ac6c-b32649530f1b",
   "metadata": {},
   "outputs": [],
   "source": []
  }
 ],
 "metadata": {
  "kernelspec": {
   "display_name": "Python 3 (ipykernel)",
   "language": "python",
   "name": "python3"
  },
  "language_info": {
   "codemirror_mode": {
    "name": "ipython",
    "version": 3
   },
   "file_extension": ".py",
   "mimetype": "text/x-python",
   "name": "python",
   "nbconvert_exporter": "python",
   "pygments_lexer": "ipython3",
   "version": "3.8.13"
  }
 },
 "nbformat": 4,
 "nbformat_minor": 5
}
