{
  "cells": [
    {
      "cell_type": "code",
      "execution_count": null,
      "metadata": {
        "id": "g-QEiASY9GlC"
      },
      "outputs": [],
      "source": [
        "!pip install keras-tuner"
      ]
    },
    {
      "cell_type": "code",
      "execution_count": null,
      "metadata": {
        "id": "FMOLtJB09duU"
      },
      "outputs": [],
      "source": []
    },
    {
      "cell_type": "code",
      "execution_count": null,
      "metadata": {
        "id": "BKYqDrMY9eEQ"
      },
      "outputs": [],
      "source": [
        "import tensorflow as tf\n",
        "import kerastuner\n",
        "import matplotlib.pyplot as plt\n",
        "import numpy as np\n"
      ]
    },
    {
      "cell_type": "code",
      "execution_count": null,
      "metadata": {
        "id": "W5sWfLIo9fT4"
      },
      "outputs": [],
      "source": [
        "tf.__version__"
      ]
    },
    {
      "cell_type": "code",
      "execution_count": null,
      "metadata": {
        "id": "KVjM8g0n9eSg"
      },
      "outputs": [],
      "source": [
        "(x_train, y_train), (x_test, y_test) = tf.keras.datasets.fashion_mnist.load_data()"
      ]
    },
    {
      "cell_type": "code",
      "execution_count": null,
      "metadata": {
        "id": "5BI8IYgX-Xrr"
      },
      "outputs": [],
      "source": [
        "x_train.shape"
      ]
    },
    {
      "cell_type": "code",
      "execution_count": null,
      "metadata": {
        "id": "l33wnDFH-X0-"
      },
      "outputs": [],
      "source": [
        "set(y_train)"
      ]
    },
    {
      "cell_type": "code",
      "execution_count": null,
      "metadata": {
        "id": "KxKauuuS-X7f"
      },
      "outputs": [],
      "source": [
        "plt.imshow(x_train[1], cmap='binary')\n",
        "plt.xlabel(y_train[1])\n",
        "plt.show()"
      ]
    },
    {
      "cell_type": "code",
      "execution_count": null,
      "metadata": {
        "id": "A6ImjNiQ-YAD"
      },
      "outputs": [],
      "source": [
        "def create_model(hp):\n",
        "  num_hidden_layers = 1\n",
        "  num_units = 8\n",
        "  dropout_rate = 0.1\n",
        "  learning_rate = 0.01\n",
        "\n",
        "  if hp:\n",
        "    num_hidden_layers = hp.Choice('num_hidden_layers', values=[1,2,3])\n",
        "    num_units = hp.Choice('num_layers', values=[8,16,32])\n",
        "    dropout_rate = hp.Float('dropout_rate', min_value=0.1, max_value=0.5)\n",
        "    learning_rate = hp.Float('learning_rate', min_value=0.0001, max_value=0.01)\n",
        "\n",
        "\n",
        "  model = tf.keras.models.Sequential()\n",
        "  model.add(tf.keras.layers.Flatten(input_shape=(28,28)))\n",
        "  model.add(tf.keras.layers.Lambda(lambda x: x/255.))\n",
        "\n",
        "  for _ in range(0, num_hidden_layers):\n",
        "    model.add(tf.keras.layers.Dense(num_units, activation='relu'))\n",
        "    model.add(tf.keras.layers.Dropout(dropout_rate))\n",
        "\n",
        "  model.add(tf.keras.layers.Dense(10, activation='softmax'))\n",
        "\n",
        "  model.compile(\n",
        "      loss = 'sparse_categorical_crossentropy',\n",
        "      optimizer = tf.keras.optimizers.Adam(learning_rate = learning_rate),\n",
        "      metrics = ['accuracy']\n",
        "  )\n",
        "  return model\n",
        "\n"
      ]
    },
    {
      "cell_type": "code",
      "execution_count": null,
      "metadata": {
        "id": "faTKKun0-YEq"
      },
      "outputs": [],
      "source": [
        "create_model(None).summary()"
      ]
    },
    {
      "cell_type": "code",
      "execution_count": null,
      "metadata": {
        "id": "kJ-_Ps8s-YHr"
      },
      "outputs": [],
      "source": [
        "class CustomTuner(kerastuner.tuners.BayesianOptimization):\n",
        "  def run_trial(self, trial, *args, **kwargs):\n",
        "    kwargs['batch_size'] = trial.hyperparameters.Int('batch_size', 32, 128, step=32)\n",
        "    return super(CustomTuner, self).run_trial(trial, * args, **kwargs)"
      ]
    },
    {
      "cell_type": "code",
      "execution_count": null,
      "metadata": {
        "id": "RQXQA0ej-YJa"
      },
      "outputs": [],
      "source": [
        "tuner = CustomTuner(\n",
        "    create_model,\n",
        "    objective='val_accuracy',\n",
        "    max_trials=20,\n",
        "    directory='logs',\n",
        "    project_name='fashion_mnist',\n",
        "    overwrite=True\n",
        ")"
      ]
    },
    {
      "cell_type": "code",
      "execution_count": null,
      "metadata": {
        "id": "HTJMbGHF-YMX"
      },
      "outputs": [],
      "source": [
        "tuner.search_space_summary()"
      ]
    },
    {
      "cell_type": "code",
      "execution_count": null,
      "metadata": {
        "id": "rOTCf2PM-YOZ"
      },
      "outputs": [],
      "source": [
        "tuner.search(\n",
        "    x_train, y_train,\n",
        "    validation_data=(x_test, y_test),\n",
        "    epochs=5, verbose=True\n",
        "\n",
        ")"
      ]
    },
    {
      "cell_type": "code",
      "execution_count": null,
      "metadata": {
        "id": "c4zLtQyD-YRD"
      },
      "outputs": [],
      "source": [
        "tuner.results_suymmary(1)"
      ]
    },
    {
      "cell_type": "code",
      "execution_count": null,
      "metadata": {
        "id": "vqqCnNJG-YS-"
      },
      "outputs": [],
      "source": [
        "model = tuner.get_best_models(num_models=1)[0]\n",
        "model.summary()"
      ]
    },
    {
      "cell_type": "code",
      "execution_count": null,
      "metadata": {
        "id": "5bqnpzmF-Yau"
      },
      "outputs": [],
      "source": [
        "_ = model.fit(\n",
        "    x_train, y_train,\n",
        "    validation_data = (x_test, y_test),\n",
        "    epochs = 20, batch_size=128,\n",
        "    callbacks=[tf.keras.callbacks.EarlyStopping(monitor='val_accuracy', patience=3)]\n",
        ")"
      ]
    },
    {
      "cell_type": "code",
      "execution_count": null,
      "metadata": {
        "id": "sRj6cokS-Yd4"
      },
      "outputs": [],
      "source": []
    },
    {
      "cell_type": "code",
      "execution_count": null,
      "metadata": {
        "id": "zHe3nOhx9eHL"
      },
      "outputs": [],
      "source": []
    },
    {
      "cell_type": "code",
      "execution_count": null,
      "metadata": {
        "id": "8zlxA-NS9eVb"
      },
      "outputs": [],
      "source": []
    }
  ],
  "metadata": {
    "colab": {
      "provenance": []
    },
    "gpuClass": "standard",
    "kernelspec": {
      "display_name": "Python 3",
      "name": "python3"
    },
    "language_info": {
      "name": "python"
    }
  },
  "nbformat": 4,
  "nbformat_minor": 0
}
