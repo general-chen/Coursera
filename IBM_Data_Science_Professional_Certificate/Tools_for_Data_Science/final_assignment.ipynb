{
 "cells": [
  {
   "cell_type": "markdown",
   "metadata": {},
   "source": [
    "<center>\n",
    "    <img src=\"https://cf-courses-data.s3.us.cloud-object-storage.appdomain.cloud/IBMDeveloperSkillsNetwork-DS0105EN-SkillsNetwork/labs/Module2/images/SN_web_lightmode.png\" width=\"300\" alt=\"cognitiveclass.ai logo\"  />\n",
    "</center>\n"
   ]
  },
  {
   "cell_type": "markdown",
   "metadata": {},
   "source": [
    "#### Add your code below following the instructions given in the course\n"
   ]
  },
  {
   "cell_type": "markdown",
   "metadata": {},
   "source": [
    "\n",
    "# My Jupyter Notebook on IBM Watson Studio\n"
   ]
  },
  {
   "cell_type": "markdown",
   "metadata": {},
   "source": [
    "**Dashuai Chen**<br>\n",
    "Data Scientist"
   ]
  },
  {
   "cell_type": "markdown",
   "metadata": {},
   "source": [
    "*I am interested in data science because it is possible to mine information from big data that cannot be obtained by traditional methods.*<br>\n",
    "*And data science, especially AI, represents the future. I hope to learn cutting-edge knowledge and make some contributions to the future of mankind.*"
   ]
  },
  {
   "cell_type": "markdown",
   "metadata": {},
   "source": [
    "\n",
    "### Print the result of 1+1\n"
   ]
  },
  {
   "cell_type": "code",
   "execution_count": 2,
   "metadata": {},
   "outputs": [
    {
     "name": "stdout",
     "output_type": "stream",
     "text": [
      "The answer of \"1+1\" is 2\n"
     ]
    }
   ],
   "source": [
    "print('The answer of \"1+1\" is %d' % (1+1))"
   ]
  },
  {
   "cell_type": "markdown",
   "metadata": {},
   "source": [
    "---\n",
    "\n",
    "-  First item\n",
    "    1. First\n",
    "    2. Second\n",
    "- Second item\n",
    "\n",
    "---\n",
    "\n",
    "| Item        | Value       | Description   |\n",
    "| :---        |    :----:   |          ---: |\n",
    "| A           | 1           | A = 1         |\n",
    "| B           | 2           | B = 2         |\n",
    "\n",
    "---\n",
    "\n",
    "The search engine that I use most is [Google](https://www.google.com/).\n",
    "\n",
    "---\n",
    "\n",
    "The **code** blow will print \"Hello friend!\" three times.<br>\n",
    "```python\n",
    "for i in range(3):\n",
    "    print('Hello friend!')\n",
    "    print('Hello friend!')\n",
    "    print('Hello friend!')\n",
    "```\n",
    "\n",
    "---\n",
    "\n",
    "The quote\n",
    "\n",
    "> Here is the quoted content.\n",
    "\n",
    "---\n",
    "\n",
    "~~This content is struckthrough.~~ This part isn’t."
   ]
  }
 ],
 "metadata": {
  "kernelspec": {
   "display_name": "Python 3 (ipykernel)",
   "language": "python",
   "name": "python3"
  },
  "language_info": {
   "codemirror_mode": {
    "name": "ipython",
    "version": 3
   },
   "file_extension": ".py",
   "mimetype": "text/x-python",
   "name": "python",
   "nbconvert_exporter": "python",
   "pygments_lexer": "ipython3",
   "version": "3.8.13"
  }
 },
 "nbformat": 4,
 "nbformat_minor": 4
}
